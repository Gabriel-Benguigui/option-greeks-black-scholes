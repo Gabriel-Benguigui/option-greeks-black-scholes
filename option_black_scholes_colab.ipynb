{
 "cells": [
  {
   "cell_type": "markdown",
   "id": "8309c01f",
   "metadata": {},
   "source": [
    "# Option Pricing & Greeks (Black-Scholes Model)\n",
    "Ce notebook calcule les prix des options Call/Put européennes, les 'greeks' (delta, gamma, vega, theta) et génère un graphique de payoff."
   ]
  },
  {
   "cell_type": "code",
   "execution_count": null,
   "id": "9e9c6675",
   "metadata": {},
   "outputs": [],
   "source": [
    "import numpy as np\n",
    "import matplotlib.pyplot as plt\n",
    "from scipy.stats import norm\n",
    "import plotly.graph_objects as go\n",
    "\n",
    "def black_scholes_call_put(S, K, T, r, sigma):\n",
    "    d1 = (np.log(S/K) + (r + 0.5 * sigma**2)*T) / (sigma * np.sqrt(T))\n",
    "    d2 = d1 - sigma * np.sqrt(T)\n",
    "\n",
    "    call_price = S * norm.cdf(d1) - K * np.exp(-r*T) * norm.cdf(d2)\n",
    "    put_price = K * np.exp(-r*T) * norm.cdf(-d2) - S * norm.cdf(-d1)\n",
    "\n",
    "    delta_call = norm.cdf(d1)\n",
    "    delta_put = norm.cdf(d1) - 1\n",
    "    gamma = norm.pdf(d1) / (S * sigma * np.sqrt(T))\n",
    "    vega = S * norm.pdf(d1) * np.sqrt(T) / 100\n",
    "    theta_call = (-S * norm.pdf(d1) * sigma / (2 * np.sqrt(T)) - r*K*np.exp(-r*T)*norm.cdf(d2)) / 365\n",
    "    theta_put = (-S * norm.pdf(d1) * sigma / (2 * np.sqrt(T)) + r*K*np.exp(-r*T)*norm.cdf(-d2)) / 365\n",
    "\n",
    "    return {\n",
    "        'call_price': call_price,\n",
    "        'put_price': put_price,\n",
    "        'delta_call': delta_call,\n",
    "        'delta_put': delta_put,\n",
    "        'gamma': gamma,\n",
    "        'vega': vega,\n",
    "        'theta_call': theta_call,\n",
    "        'theta_put': theta_put\n",
    "    }\n",
    "\n",
    "S = 100\n",
    "K = 100\n",
    "T = 0.5\n",
    "r = 0.05\n",
    "sigma = 0.2\n",
    "\n",
    "results = black_scholes_call_put(S, K, T, r, sigma)\n",
    "for k, v in results.items():\n",
    "    print(f\"{k}: {v:.4f}\")\n"
   ]
  },
  {
   "cell_type": "code",
   "execution_count": null,
   "id": "55668697",
   "metadata": {},
   "outputs": [],
   "source": [
    "S_range = np.linspace(50, 150, 200)\n",
    "call_payoff = np.maximum(S_range - K, 0) - results['call_price']\n",
    "put_payoff = np.maximum(K - S_range, 0) - results['put_price']\n",
    "\n",
    "fig = go.Figure()\n",
    "fig.add_trace(go.Scatter(x=S_range, y=call_payoff, name=\"Call Payoff\", line=dict(color='green')))\n",
    "fig.add_trace(go.Scatter(x=S_range, y=put_payoff, name=\"Put Payoff\", line=dict(color='red')))\n",
    "fig.add_trace(go.Scatter(x=S_range, y=np.zeros_like(S_range), name=\"Break-even\", line=dict(color='black', dash='dash')))\n",
    "\n",
    "fig.update_layout(title=\"Payoff à maturité - Call et Put\",\n",
    "                  xaxis_title=\"Prix du sous-jacent à maturité (S)\",\n",
    "                  yaxis_title=\"Profit / Perte\",\n",
    "                  template=\"plotly_white\")\n",
    "\n",
    "fig.show()\n"
   ]
  }
 ],
 "metadata": {},
 "nbformat": 4,
 "nbformat_minor": 5
}
